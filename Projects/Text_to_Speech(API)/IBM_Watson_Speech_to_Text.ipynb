{
 "cells": [
  {
   "cell_type": "markdown",
   "metadata": {},
   "source": [
    "# Example with IBM Watson's Speech to Text"
   ]
  },
  {
   "cell_type": "markdown",
   "metadata": {},
   "source": [
    "This is a simple IBM Watson Speech to Text example as a POC"
   ]
  },
  {
   "cell_type": "code",
   "execution_count": 8,
   "metadata": {},
   "outputs": [],
   "source": [
    "#Installing the IBM Watson API lib\n",
    "#!pip install ibm_watson"
   ]
  },
  {
   "cell_type": "markdown",
   "metadata": {},
   "source": [
    "Now, with the IBM Watson lib, we can use the API"
   ]
  },
  {
   "cell_type": "code",
   "execution_count": 2,
   "metadata": {},
   "outputs": [],
   "source": [
    "from ibm_watson import SpeechToTextV1\n",
    "from ibm_cloud_sdk_core.authenticators import IAMAuthenticator"
   ]
  },
  {
   "cell_type": "code",
   "execution_count": 3,
   "metadata": {},
   "outputs": [],
   "source": [
    "#Importing the URL\n",
    "api_url = \"https://stream.watsonplatform.net/speech-to-text/api\"\n",
    "iam_key = \"Put your API key here\""
   ]
  },
  {
   "cell_type": "code",
   "execution_count": 4,
   "metadata": {},
   "outputs": [],
   "source": [
    "#Creating a Speech to Text Adapter object\n",
    "auth = IAMAuthenticator(iam_key)\n",
    "Speech2Text = SpeechToTextV1(authenticator = auth)\n",
    "Speech2Text.set_service_url(api_url)"
   ]
  },
  {
   "cell_type": "code",
   "execution_count": 5,
   "metadata": {},
   "outputs": [],
   "source": [
    "audio_file = \"audio.wav\"\n",
    "#Creating a file with the API response from SpeechToText\n",
    "with open(audio_file, mode=\"rb\") as wav:\n",
    "    response = Speech2Text.recognize(audio=wav, content_type='audio/wav')"
   ]
  },
  {
   "cell_type": "code",
   "execution_count": 6,
   "metadata": {},
   "outputs": [
    {
     "data": {
      "text/plain": [
       "{'results': [{'alternatives': [{'confidence': 0.81,\n",
       "     'transcript': 'this is a writing about com microphone test this is for you to see if you could hear me in a noisy environment this recording was made with the microphone of the headphones while placed on our dummy had with my voice being played through the dummy heads mouths and noise being played through a speaker about one meter away '}],\n",
       "   'final': True}],\n",
       " 'result_index': 0}"
      ]
     },
     "execution_count": 6,
     "metadata": {},
     "output_type": "execute_result"
    }
   ],
   "source": [
    "#Seeing the response\n",
    "response.result"
   ]
  },
  {
   "cell_type": "code",
   "execution_count": 7,
   "metadata": {},
   "outputs": [],
   "source": [
    "#Storing the text\n",
    "recognized_text = response.result['results'][0][\"alternatives\"][0][\"transcript\"]\n",
    "file_text = \"transcribed.txt\"\n",
    "with open(file_text, 'w') as file:\n",
    "    file.write(recognized_text)"
   ]
  }
 ],
 "metadata": {
  "kernelspec": {
   "display_name": "Python 3",
   "language": "python",
   "name": "python3"
  },
  "language_info": {
   "codemirror_mode": {
    "name": "ipython",
    "version": 3
   },
   "file_extension": ".py",
   "mimetype": "text/x-python",
   "name": "python",
   "nbconvert_exporter": "python",
   "pygments_lexer": "ipython3",
   "version": "3.7.4"
  }
 },
 "nbformat": 4,
 "nbformat_minor": 2
}
